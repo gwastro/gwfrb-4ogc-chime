{
 "cells": [
  {
   "cell_type": "code",
   "execution_count": 1,
   "id": "9a0d09ed",
   "metadata": {},
   "outputs": [],
   "source": [
    "import glob, os, h5py\n",
    "import numpy as np\n",
    "import pandas as pd\n",
    "import matplotlib as mpl\n",
    "import matplotlib.pyplot as plt\n",
    "\n",
    "# PLOTTING OPTIONS\n",
    "fig_width_pt = 3*246.0  # Get this from LaTeX using \\showthe\\columnwidth\n",
    "inches_per_pt = 1.0/72.27               # Convert pt to inch\n",
    "golden_mean = (np.sqrt(5)-1.0)/2.0         # Aesthetic ratio\n",
    "fig_width = fig_width_pt*inches_per_pt  # width in inches\n",
    "fig_height = fig_width*golden_mean      # height in inches\n",
    "fig_size =  [fig_width,fig_height]\n",
    "\n",
    "params = { 'axes.labelsize': 24,\n",
    "          'font.family': 'serif',\n",
    "          'font.serif': 'Computer Modern Raman',\n",
    "          'font.size': 24,\n",
    "          'legend.fontsize': 20,\n",
    "          'xtick.labelsize': 24,\n",
    "          'ytick.labelsize': 24,\n",
    "          'axes.grid' : True,\n",
    "          'text.usetex': True,\n",
    "          'savefig.dpi' : 100,\n",
    "          'lines.markersize' : 14,\n",
    "          'figure.figsize': fig_size}\n",
    "\n",
    "mpl.rcParams.update(params)"
   ]
  },
  {
   "cell_type": "markdown",
   "id": "04eb4ccb",
   "metadata": {},
   "source": [
    "# Reading the file directly from here"
   ]
  },
  {
   "cell_type": "code",
   "execution_count": 10,
   "id": "48eef794",
   "metadata": {},
   "outputs": [],
   "source": [
    "fg = pd.read_csv('candidate.csv')"
   ]
  },
  {
   "cell_type": "code",
   "execution_count": 11,
   "id": "a56b5fd3",
   "metadata": {},
   "outputs": [],
   "source": [
    "bg = pd.read_csv('background.csv')"
   ]
  },
  {
   "cell_type": "markdown",
   "id": "49922414",
   "metadata": {},
   "source": [
    "# Making a figure for the paper:"
   ]
  },
  {
   "cell_type": "code",
   "execution_count": 12,
   "id": "af453ff3",
   "metadata": {},
   "outputs": [
    {
     "data": {
      "text/plain": [
       "Text(0, 0.5, 'Number of events / Obs')"
      ]
     },
     "execution_count": 12,
     "metadata": {},
     "output_type": "execute_result"
    },
    {
     "data": {
      "image/png": "[encoded data removed]",
      "text/plain": [
       "<Figure size 735.243x454.405 with 1 Axes>"
      ]
     },
     "metadata": {
      "needs_background": "light"
     },
     "output_type": "display_data"
    }
   ],
   "source": [
    "fig = plt.figure()\n",
    "ax = fig.add_subplot(111)\n",
    "\n",
    "bgranking = bg['ranking']\n",
    "fgranking = fg['ranking']\n",
    "\n",
    "low=-30\n",
    "bins = np.linspace(low,np.max(bgranking)+1,200)\n",
    "counts, _ = np.histogram(bgranking,bins=bins)\n",
    "\n",
    "ax.hist(bins[:-1], bins, weights=counts/100,histtype=\"step\",label='background')\n",
    "ax.hist(fgranking,bins=bins,alpha=0.7,color='grey',label='candidates')\n",
    "ax.set_yscale('log')\n",
    "ax.legend()\n",
    "ax.set_xlim(-30,35)\n",
    "ax.set_xlabel('$\\lambda_\\mathrm{gw+frb}$')\n",
    "ax.set_ylabel('Number of events / Obs')\n",
    "#fig.savefig('newstat.png',bbox_inches='tight')"
   ]
  },
  {
   "cell_type": "markdown",
   "id": "b71a11b0",
   "metadata": {},
   "source": [
    "# FAR"
   ]
  },
  {
   "cell_type": "code",
   "execution_count": 13,
   "id": "58754a6c",
   "metadata": {},
   "outputs": [
    {
     "name": "stdout",
     "output_type": "stream",
     "text": [
      "stat: 8.922940943390131\n",
      "0.29\n",
      "stat: 7.506948210299015\n",
      "0.63\n",
      "stat: 6.950599300907924\n",
      "0.93\n"
     ]
    }
   ],
   "source": [
    "for i in range(3):\n",
    "    print('stat:', fg['ranking'].values[i])\n",
    "    higherbg = bg[bg['ranking']>=fg['ranking'].values[i]]\n",
    "    print( len (higherbg) / 100)"
   ]
  },
  {
   "cell_type": "code",
   "execution_count": null,
   "id": "340602dc",
   "metadata": {},
   "outputs": [],
   "source": []
  }
 ],
 "metadata": {
  "kernelspec": {
   "display_name": "Python 3 (ipykernel)",
   "language": "python",
   "name": "python3"
  },
  "language_info": {
   "codemirror_mode": {
    "name": "ipython",
    "version": 3
   },
   "file_extension": ".py",
   "mimetype": "text/x-python",
   "name": "python",
   "nbconvert_exporter": "python",
   "pygments_lexer": "ipython3",
   "version": "3.7.3"
  }
 },
 "nbformat": 4,
 "nbformat_minor": 5
}
